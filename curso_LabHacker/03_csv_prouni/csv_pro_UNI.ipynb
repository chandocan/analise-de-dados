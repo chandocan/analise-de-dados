{
 "metadata": {
  "language_info": {
   "codemirror_mode": {
    "name": "ipython",
    "version": 3
   },
   "file_extension": ".py",
   "mimetype": "text/x-python",
   "name": "python",
   "nbconvert_exporter": "python",
   "pygments_lexer": "ipython3",
   "version": "3.9.1-final"
  },
  "orig_nbformat": 2,
  "kernelspec": {
   "name": "python3",
   "display_name": "Python 3.9.1 64-bit",
   "metadata": {
    "interpreter": {
     "hash": "a3a7b21509de3246b543699b0c8962ce0db4b67e1160efd6852a39f9576e10a8"
    }
   }
  }
 },
 "nbformat": 4,
 "nbformat_minor": 2,
 "cells": [
  {
   "cell_type": "code",
   "execution_count": 3,
   "metadata": {},
   "outputs": [],
   "source": [
    "# importando bíbliotecas\n",
    "import pandas as pd"
   ]
  },
  {
   "cell_type": "code",
   "execution_count": 4,
   "metadata": {},
   "outputs": [],
   "source": [
    "# criando o grafico\n",
    "%matplotlib inline"
   ]
  },
  {
   "cell_type": "code",
   "execution_count": 5,
   "metadata": {},
   "outputs": [
    {
     "output_type": "execute_result",
     "data": {
      "text/plain": [
       "  uf_busca     cidade_busca  \\\n",
       "0       AC       Acrelandia   \n",
       "1       AC  Cruzeiro do Sul   \n",
       "2       AC  Cruzeiro do Sul   \n",
       "3       AC  Cruzeiro do Sul   \n",
       "4       AC       Rio Branco   \n",
       "\n",
       "                                   universidade_nome  \\\n",
       "0                       Universidade Paulista - UNIP   \n",
       "1  Centro Universitário Internacional - Uninter -...   \n",
       "2               Faculdade Educacional da Lapa - FAEL   \n",
       "3                       Universidade Paulista - UNIP   \n",
       "4  Centro Universitário Internacional - Uninter -...   \n",
       "\n",
       "                                campus_nome           nome         grau  \\\n",
       "0                       ACRELANDIA - Centro  Administração  Bacharelado   \n",
       "1              PAP CRUZEIRO DO SUL - Centro  Administração  Bacharelado   \n",
       "2  AC - CRUZEIRO DO SUL - POLO EAD - CENTRO  Administração  Bacharelado   \n",
       "3                  CRUZEIRO DO SUL - Centro  Administração  Bacharelado   \n",
       "4                   PAP RIO BRANCO - Bosque  Administração  Bacharelado   \n",
       "\n",
       "               turno  mensalidade  bolsa_integral_cotas  bolsa_integral_ampla  \\\n",
       "0  Curso a Distância        289.0                   1.0                   1.0   \n",
       "1  Curso a Distância        298.0                   1.0                   NaN   \n",
       "2  Curso a Distância        325.0                   NaN                   NaN   \n",
       "3  Curso a Distância        319.0                   1.0                   NaN   \n",
       "4  Curso a Distância        298.0                   NaN                   NaN   \n",
       "\n",
       "   bolsa_parcial_cotas  bolsa_parcial_ampla  nota_integral_ampla  \\\n",
       "0                  NaN                  NaN               572.74   \n",
       "1                  NaN                  NaN               646.14   \n",
       "2                  1.0                  NaN                  NaN   \n",
       "3                  NaN                  NaN               616.68   \n",
       "4                  1.0                  NaN                  NaN   \n",
       "\n",
       "   nota_integral_cotas  nota_parcial_ampla  nota_parcial_cotas  \n",
       "0                548.0                 NaN                 NaN  \n",
       "1                  NaN                 NaN                 NaN  \n",
       "2                  NaN              577.62                 NaN  \n",
       "3                  NaN                 NaN                 NaN  \n",
       "4                  NaN              569.00                 NaN  "
      ],
      "text/html": "<div>\n<style scoped>\n    .dataframe tbody tr th:only-of-type {\n        vertical-align: middle;\n    }\n\n    .dataframe tbody tr th {\n        vertical-align: top;\n    }\n\n    .dataframe thead th {\n        text-align: right;\n    }\n</style>\n<table border=\"1\" class=\"dataframe\">\n  <thead>\n    <tr style=\"text-align: right;\">\n      <th></th>\n      <th>uf_busca</th>\n      <th>cidade_busca</th>\n      <th>universidade_nome</th>\n      <th>campus_nome</th>\n      <th>nome</th>\n      <th>grau</th>\n      <th>turno</th>\n      <th>mensalidade</th>\n      <th>bolsa_integral_cotas</th>\n      <th>bolsa_integral_ampla</th>\n      <th>bolsa_parcial_cotas</th>\n      <th>bolsa_parcial_ampla</th>\n      <th>nota_integral_ampla</th>\n      <th>nota_integral_cotas</th>\n      <th>nota_parcial_ampla</th>\n      <th>nota_parcial_cotas</th>\n    </tr>\n  </thead>\n  <tbody>\n    <tr>\n      <th>0</th>\n      <td>AC</td>\n      <td>Acrelandia</td>\n      <td>Universidade Paulista - UNIP</td>\n      <td>ACRELANDIA - Centro</td>\n      <td>Administração</td>\n      <td>Bacharelado</td>\n      <td>Curso a Distância</td>\n      <td>289.0</td>\n      <td>1.0</td>\n      <td>1.0</td>\n      <td>NaN</td>\n      <td>NaN</td>\n      <td>572.74</td>\n      <td>548.0</td>\n      <td>NaN</td>\n      <td>NaN</td>\n    </tr>\n    <tr>\n      <th>1</th>\n      <td>AC</td>\n      <td>Cruzeiro do Sul</td>\n      <td>Centro Universitário Internacional - Uninter -...</td>\n      <td>PAP CRUZEIRO DO SUL - Centro</td>\n      <td>Administração</td>\n      <td>Bacharelado</td>\n      <td>Curso a Distância</td>\n      <td>298.0</td>\n      <td>1.0</td>\n      <td>NaN</td>\n      <td>NaN</td>\n      <td>NaN</td>\n      <td>646.14</td>\n      <td>NaN</td>\n      <td>NaN</td>\n      <td>NaN</td>\n    </tr>\n    <tr>\n      <th>2</th>\n      <td>AC</td>\n      <td>Cruzeiro do Sul</td>\n      <td>Faculdade Educacional da Lapa - FAEL</td>\n      <td>AC - CRUZEIRO DO SUL - POLO EAD - CENTRO</td>\n      <td>Administração</td>\n      <td>Bacharelado</td>\n      <td>Curso a Distância</td>\n      <td>325.0</td>\n      <td>NaN</td>\n      <td>NaN</td>\n      <td>1.0</td>\n      <td>NaN</td>\n      <td>NaN</td>\n      <td>NaN</td>\n      <td>577.62</td>\n      <td>NaN</td>\n    </tr>\n    <tr>\n      <th>3</th>\n      <td>AC</td>\n      <td>Cruzeiro do Sul</td>\n      <td>Universidade Paulista - UNIP</td>\n      <td>CRUZEIRO DO SUL - Centro</td>\n      <td>Administração</td>\n      <td>Bacharelado</td>\n      <td>Curso a Distância</td>\n      <td>319.0</td>\n      <td>1.0</td>\n      <td>NaN</td>\n      <td>NaN</td>\n      <td>NaN</td>\n      <td>616.68</td>\n      <td>NaN</td>\n      <td>NaN</td>\n      <td>NaN</td>\n    </tr>\n    <tr>\n      <th>4</th>\n      <td>AC</td>\n      <td>Rio Branco</td>\n      <td>Centro Universitário Internacional - Uninter -...</td>\n      <td>PAP RIO BRANCO - Bosque</td>\n      <td>Administração</td>\n      <td>Bacharelado</td>\n      <td>Curso a Distância</td>\n      <td>298.0</td>\n      <td>NaN</td>\n      <td>NaN</td>\n      <td>1.0</td>\n      <td>NaN</td>\n      <td>NaN</td>\n      <td>NaN</td>\n      <td>569.00</td>\n      <td>NaN</td>\n    </tr>\n  </tbody>\n</table>\n</div>"
     },
     "metadata": {},
     "execution_count": 5
    }
   ],
   "source": [
    "df = pd.read_csv('cursos-prouni-5d41dcb05ccf4473b2451a47ad5abafe.csv')\n",
    "df.head()"
   ]
  },
  {
   "cell_type": "code",
   "execution_count": 6,
   "metadata": {},
   "outputs": [
    {
     "output_type": "execute_result",
     "data": {
      "text/plain": [
       "(41447, 16)"
      ]
     },
     "metadata": {},
     "execution_count": 6
    }
   ],
   "source": [
    "# formato (linhas,colunas)\n",
    "df.shape"
   ]
  },
  {
   "cell_type": "code",
   "execution_count": 7,
   "metadata": {},
   "outputs": [
    {
     "output_type": "execute_result",
     "data": {
      "text/plain": [
       "uf_busca                 object\n",
       "cidade_busca             object\n",
       "universidade_nome        object\n",
       "campus_nome              object\n",
       "nome                     object\n",
       "grau                     object\n",
       "turno                    object\n",
       "mensalidade             float64\n",
       "bolsa_integral_cotas    float64\n",
       "bolsa_integral_ampla    float64\n",
       "bolsa_parcial_cotas     float64\n",
       "bolsa_parcial_ampla     float64\n",
       "nota_integral_ampla     float64\n",
       "nota_integral_cotas     float64\n",
       "nota_parcial_ampla      float64\n",
       "nota_parcial_cotas      float64\n",
       "dtype: object"
      ]
     },
     "metadata": {},
     "execution_count": 7
    }
   ],
   "source": [
    "# tipos de dados das colunas\n",
    "df.dtypes"
   ]
  },
  {
   "cell_type": "code",
   "execution_count": 8,
   "metadata": {},
   "outputs": [
    {
     "output_type": "execute_result",
     "data": {
      "text/plain": [
       "        mensalidade  bolsa_integral_cotas  bolsa_integral_ampla  \\\n",
       "count  41447.000000          32520.000000          25404.000000   \n",
       "mean     622.636966              1.535394              2.513541   \n",
       "std      606.442296              2.191578              3.019549   \n",
       "min      139.000000              0.000000              1.000000   \n",
       "25%      278.000000              0.000000              1.000000   \n",
       "50%      393.350000              1.000000              1.000000   \n",
       "75%      825.000000              2.000000              3.000000   \n",
       "max     9999.990000             58.000000             67.000000   \n",
       "\n",
       "       bolsa_parcial_cotas  bolsa_parcial_ampla  nota_integral_ampla  \\\n",
       "count          8828.000000         13041.000000         32520.000000   \n",
       "mean              1.873018             8.632544           575.982999   \n",
       "std               2.336403            18.372991            57.827594   \n",
       "min               1.000000             1.000000           450.000000   \n",
       "25%               1.000000             1.000000           544.360000   \n",
       "50%               1.000000             2.000000           580.740000   \n",
       "75%               2.000000             6.000000           614.145000   \n",
       "max              74.000000           350.000000           781.200000   \n",
       "\n",
       "       nota_integral_cotas  nota_parcial_ampla  nota_parcial_cotas  \n",
       "count         16802.000000        16350.000000         5519.000000  \n",
       "mean            564.470439          527.517136          511.799638  \n",
       "std              57.869145           60.202170           56.787140  \n",
       "min             450.000000          450.000000          450.000000  \n",
       "25%             532.865000          453.980000          450.000000  \n",
       "50%             571.450000          532.420000          511.820000  \n",
       "75%             603.315000          573.235000          557.170000  \n",
       "max             792.240000          776.360000          768.340000  "
      ],
      "text/html": "<div>\n<style scoped>\n    .dataframe tbody tr th:only-of-type {\n        vertical-align: middle;\n    }\n\n    .dataframe tbody tr th {\n        vertical-align: top;\n    }\n\n    .dataframe thead th {\n        text-align: right;\n    }\n</style>\n<table border=\"1\" class=\"dataframe\">\n  <thead>\n    <tr style=\"text-align: right;\">\n      <th></th>\n      <th>mensalidade</th>\n      <th>bolsa_integral_cotas</th>\n      <th>bolsa_integral_ampla</th>\n      <th>bolsa_parcial_cotas</th>\n      <th>bolsa_parcial_ampla</th>\n      <th>nota_integral_ampla</th>\n      <th>nota_integral_cotas</th>\n      <th>nota_parcial_ampla</th>\n      <th>nota_parcial_cotas</th>\n    </tr>\n  </thead>\n  <tbody>\n    <tr>\n      <th>count</th>\n      <td>41447.000000</td>\n      <td>32520.000000</td>\n      <td>25404.000000</td>\n      <td>8828.000000</td>\n      <td>13041.000000</td>\n      <td>32520.000000</td>\n      <td>16802.000000</td>\n      <td>16350.000000</td>\n      <td>5519.000000</td>\n    </tr>\n    <tr>\n      <th>mean</th>\n      <td>622.636966</td>\n      <td>1.535394</td>\n      <td>2.513541</td>\n      <td>1.873018</td>\n      <td>8.632544</td>\n      <td>575.982999</td>\n      <td>564.470439</td>\n      <td>527.517136</td>\n      <td>511.799638</td>\n    </tr>\n    <tr>\n      <th>std</th>\n      <td>606.442296</td>\n      <td>2.191578</td>\n      <td>3.019549</td>\n      <td>2.336403</td>\n      <td>18.372991</td>\n      <td>57.827594</td>\n      <td>57.869145</td>\n      <td>60.202170</td>\n      <td>56.787140</td>\n    </tr>\n    <tr>\n      <th>min</th>\n      <td>139.000000</td>\n      <td>0.000000</td>\n      <td>1.000000</td>\n      <td>1.000000</td>\n      <td>1.000000</td>\n      <td>450.000000</td>\n      <td>450.000000</td>\n      <td>450.000000</td>\n      <td>450.000000</td>\n    </tr>\n    <tr>\n      <th>25%</th>\n      <td>278.000000</td>\n      <td>0.000000</td>\n      <td>1.000000</td>\n      <td>1.000000</td>\n      <td>1.000000</td>\n      <td>544.360000</td>\n      <td>532.865000</td>\n      <td>453.980000</td>\n      <td>450.000000</td>\n    </tr>\n    <tr>\n      <th>50%</th>\n      <td>393.350000</td>\n      <td>1.000000</td>\n      <td>1.000000</td>\n      <td>1.000000</td>\n      <td>2.000000</td>\n      <td>580.740000</td>\n      <td>571.450000</td>\n      <td>532.420000</td>\n      <td>511.820000</td>\n    </tr>\n    <tr>\n      <th>75%</th>\n      <td>825.000000</td>\n      <td>2.000000</td>\n      <td>3.000000</td>\n      <td>2.000000</td>\n      <td>6.000000</td>\n      <td>614.145000</td>\n      <td>603.315000</td>\n      <td>573.235000</td>\n      <td>557.170000</td>\n    </tr>\n    <tr>\n      <th>max</th>\n      <td>9999.990000</td>\n      <td>58.000000</td>\n      <td>67.000000</td>\n      <td>74.000000</td>\n      <td>350.000000</td>\n      <td>781.200000</td>\n      <td>792.240000</td>\n      <td>776.360000</td>\n      <td>768.340000</td>\n    </tr>\n  </tbody>\n</table>\n</div>"
     },
     "metadata": {},
     "execution_count": 8
    }
   ],
   "source": [
    "# analise matemática das colunas númericas\n",
    "df.describe()"
   ]
  },
  {
   "cell_type": "code",
   "execution_count": 9,
   "metadata": {},
   "outputs": [
    {
     "output_type": "stream",
     "name": "stdout",
     "text": [
      "<class 'pandas.core.frame.DataFrame'>\nRangeIndex: 41447 entries, 0 to 41446\nData columns (total 16 columns):\n #   Column                Non-Null Count  Dtype  \n---  ------                --------------  -----  \n 0   uf_busca              41447 non-null  object \n 1   cidade_busca          41447 non-null  object \n 2   universidade_nome     41447 non-null  object \n 3   campus_nome           41447 non-null  object \n 4   nome                  41447 non-null  object \n 5   grau                  41447 non-null  object \n 6   turno                 41447 non-null  object \n 7   mensalidade           41447 non-null  float64\n 8   bolsa_integral_cotas  32520 non-null  float64\n 9   bolsa_integral_ampla  25404 non-null  float64\n 10  bolsa_parcial_cotas   8828 non-null   float64\n 11  bolsa_parcial_ampla   13041 non-null  float64\n 12  nota_integral_ampla   32520 non-null  float64\n 13  nota_integral_cotas   16802 non-null  float64\n 14  nota_parcial_ampla    16350 non-null  float64\n 15  nota_parcial_cotas    5519 non-null   float64\ndtypes: float64(9), object(7)\nmemory usage: 5.1+ MB\n"
     ]
    }
   ],
   "source": [
    "# Descreve os dados\n",
    "df.info()"
   ]
  },
  {
   "cell_type": "code",
   "execution_count": 10,
   "metadata": {},
   "outputs": [
    {
     "output_type": "execute_result",
     "data": {
      "text/plain": [
       "SP    11533\n",
       "MG     4175\n",
       "PR     3918\n",
       "RS     3060\n",
       "BA     2505\n",
       "SC     2195\n",
       "RJ     1442\n",
       "GO     1278\n",
       "PA     1201\n",
       "PE     1148\n",
       "DF     1063\n",
       "MT     1063\n",
       "ES      825\n",
       "CE      816\n",
       "MS      785\n",
       "MA      679\n",
       "PB      596\n",
       "RO      463\n",
       "AM      429\n",
       "PI      405\n",
       "TO      343\n",
       "RN      342\n",
       "AL      327\n",
       "SE      323\n",
       "AP      219\n",
       "AC      203\n",
       "RR      111\n",
       "Name: uf_busca, dtype: int64"
      ]
     },
     "metadata": {},
     "execution_count": 10
    }
   ],
   "source": [
    " # quantidade de curso por UF\n",
    " df['uf_busca'].value_counts()"
   ]
  },
  {
   "cell_type": "code",
   "execution_count": 11,
   "metadata": {},
   "outputs": [
    {
     "output_type": "execute_result",
     "data": {
      "text/plain": [
       "      uf_busca  cidade_busca                  universidade_nome  \\\n",
       "31987       MS  Campo Grande  Universidade Anhanguera - UNIDERP   \n",
       "\n",
       "                              campus_nome      nome         grau     turno  \\\n",
       "31987  CAMPO GRANDE - SEDE - Miguel Couto  Medicina  Bacharelado  Integral   \n",
       "\n",
       "       mensalidade  bolsa_integral_cotas  bolsa_integral_ampla  \\\n",
       "31987      9999.99                  15.0                  14.0   \n",
       "\n",
       "       bolsa_parcial_cotas  bolsa_parcial_ampla  nota_integral_ampla  \\\n",
       "31987                  NaN                  NaN               740.22   \n",
       "\n",
       "       nota_integral_cotas  nota_parcial_ampla  nota_parcial_cotas  \n",
       "31987               726.46                 NaN                 NaN  "
      ],
      "text/html": "<div>\n<style scoped>\n    .dataframe tbody tr th:only-of-type {\n        vertical-align: middle;\n    }\n\n    .dataframe tbody tr th {\n        vertical-align: top;\n    }\n\n    .dataframe thead th {\n        text-align: right;\n    }\n</style>\n<table border=\"1\" class=\"dataframe\">\n  <thead>\n    <tr style=\"text-align: right;\">\n      <th></th>\n      <th>uf_busca</th>\n      <th>cidade_busca</th>\n      <th>universidade_nome</th>\n      <th>campus_nome</th>\n      <th>nome</th>\n      <th>grau</th>\n      <th>turno</th>\n      <th>mensalidade</th>\n      <th>bolsa_integral_cotas</th>\n      <th>bolsa_integral_ampla</th>\n      <th>bolsa_parcial_cotas</th>\n      <th>bolsa_parcial_ampla</th>\n      <th>nota_integral_ampla</th>\n      <th>nota_integral_cotas</th>\n      <th>nota_parcial_ampla</th>\n      <th>nota_parcial_cotas</th>\n    </tr>\n  </thead>\n  <tbody>\n    <tr>\n      <th>31987</th>\n      <td>MS</td>\n      <td>Campo Grande</td>\n      <td>Universidade Anhanguera - UNIDERP</td>\n      <td>CAMPO GRANDE - SEDE - Miguel Couto</td>\n      <td>Medicina</td>\n      <td>Bacharelado</td>\n      <td>Integral</td>\n      <td>9999.99</td>\n      <td>15.0</td>\n      <td>14.0</td>\n      <td>NaN</td>\n      <td>NaN</td>\n      <td>740.22</td>\n      <td>726.46</td>\n      <td>NaN</td>\n      <td>NaN</td>\n    </tr>\n  </tbody>\n</table>\n</div>"
     },
     "metadata": {},
     "execution_count": 11
    }
   ],
   "source": [
    "# qual curso da mensalidade mais alta ?\n",
    "df[df['mensalidade'] == df['mensalidade'].max()]"
   ]
  },
  {
   "cell_type": "code",
   "execution_count": 12,
   "metadata": {},
   "outputs": [
    {
     "output_type": "execute_result",
     "data": {
      "text/plain": [
       "      uf_busca cidade_busca  \\\n",
       "20454       PA     Santarem   \n",
       "22934       DF     Brasilia   \n",
       "39118       ES      Vitoria   \n",
       "\n",
       "                                       universidade_nome  \\\n",
       "20454                       Universidade Paulista - UNIP   \n",
       "22934  Centro Universitário Planalto do Distrito Fede...   \n",
       "39118                       Universidade Paulista - UNIP   \n",
       "\n",
       "                                             campus_nome  \\\n",
       "20454                                  SANTARÉM - Fátima   \n",
       "22934  DF03 - UNIDADE BRASIL CENTRAL - Taguatinga Nor...   \n",
       "39118                         VITORIA I - Barro Vermelho   \n",
       "\n",
       "                             nome         grau              turno  \\\n",
       "20454            Gestão Ambiental  Tecnológico  Curso a Distância   \n",
       "22934  Gestão de Recursos Humanos  Tecnológico         Vespertino   \n",
       "39118              Serviço Social  Bacharelado  Curso a Distância   \n",
       "\n",
       "       mensalidade  bolsa_integral_cotas  bolsa_integral_ampla  \\\n",
       "20454        139.0                   3.0                   1.0   \n",
       "22934        139.0                   1.0                   NaN   \n",
       "39118        139.0                   1.0                   NaN   \n",
       "\n",
       "       bolsa_parcial_cotas  bolsa_parcial_ampla  nota_integral_ampla  \\\n",
       "20454                  NaN                  NaN               605.32   \n",
       "22934                  NaN                  NaN               580.76   \n",
       "39118                  NaN                  NaN               548.26   \n",
       "\n",
       "       nota_integral_cotas  nota_parcial_ampla  nota_parcial_cotas  \n",
       "20454                573.7                 NaN                 NaN  \n",
       "22934                  NaN                 NaN                 NaN  \n",
       "39118                  NaN                 NaN                 NaN  "
      ],
      "text/html": "<div>\n<style scoped>\n    .dataframe tbody tr th:only-of-type {\n        vertical-align: middle;\n    }\n\n    .dataframe tbody tr th {\n        vertical-align: top;\n    }\n\n    .dataframe thead th {\n        text-align: right;\n    }\n</style>\n<table border=\"1\" class=\"dataframe\">\n  <thead>\n    <tr style=\"text-align: right;\">\n      <th></th>\n      <th>uf_busca</th>\n      <th>cidade_busca</th>\n      <th>universidade_nome</th>\n      <th>campus_nome</th>\n      <th>nome</th>\n      <th>grau</th>\n      <th>turno</th>\n      <th>mensalidade</th>\n      <th>bolsa_integral_cotas</th>\n      <th>bolsa_integral_ampla</th>\n      <th>bolsa_parcial_cotas</th>\n      <th>bolsa_parcial_ampla</th>\n      <th>nota_integral_ampla</th>\n      <th>nota_integral_cotas</th>\n      <th>nota_parcial_ampla</th>\n      <th>nota_parcial_cotas</th>\n    </tr>\n  </thead>\n  <tbody>\n    <tr>\n      <th>20454</th>\n      <td>PA</td>\n      <td>Santarem</td>\n      <td>Universidade Paulista - UNIP</td>\n      <td>SANTARÉM - Fátima</td>\n      <td>Gestão Ambiental</td>\n      <td>Tecnológico</td>\n      <td>Curso a Distância</td>\n      <td>139.0</td>\n      <td>3.0</td>\n      <td>1.0</td>\n      <td>NaN</td>\n      <td>NaN</td>\n      <td>605.32</td>\n      <td>573.7</td>\n      <td>NaN</td>\n      <td>NaN</td>\n    </tr>\n    <tr>\n      <th>22934</th>\n      <td>DF</td>\n      <td>Brasilia</td>\n      <td>Centro Universitário Planalto do Distrito Fede...</td>\n      <td>DF03 - UNIDADE BRASIL CENTRAL - Taguatinga Nor...</td>\n      <td>Gestão de Recursos Humanos</td>\n      <td>Tecnológico</td>\n      <td>Vespertino</td>\n      <td>139.0</td>\n      <td>1.0</td>\n      <td>NaN</td>\n      <td>NaN</td>\n      <td>NaN</td>\n      <td>580.76</td>\n      <td>NaN</td>\n      <td>NaN</td>\n      <td>NaN</td>\n    </tr>\n    <tr>\n      <th>39118</th>\n      <td>ES</td>\n      <td>Vitoria</td>\n      <td>Universidade Paulista - UNIP</td>\n      <td>VITORIA I - Barro Vermelho</td>\n      <td>Serviço Social</td>\n      <td>Bacharelado</td>\n      <td>Curso a Distância</td>\n      <td>139.0</td>\n      <td>1.0</td>\n      <td>NaN</td>\n      <td>NaN</td>\n      <td>NaN</td>\n      <td>548.26</td>\n      <td>NaN</td>\n      <td>NaN</td>\n      <td>NaN</td>\n    </tr>\n  </tbody>\n</table>\n</div>"
     },
     "metadata": {},
     "execution_count": 12
    }
   ],
   "source": [
    "# qual curso é o mais barato do brasil\n",
    "df[df['mensalidade'] == df['mensalidade'].min()]"
   ]
  },
  {
   "cell_type": "code",
   "execution_count": 13,
   "metadata": {},
   "outputs": [
    {
     "output_type": "execute_result",
     "data": {
      "text/plain": [
       "      uf_busca cidade_busca\n",
       "20454       PA     Santarem\n",
       "22934       DF     Brasilia\n",
       "39118       ES      Vitoria"
      ],
      "text/html": "<div>\n<style scoped>\n    .dataframe tbody tr th:only-of-type {\n        vertical-align: middle;\n    }\n\n    .dataframe tbody tr th {\n        vertical-align: top;\n    }\n\n    .dataframe thead th {\n        text-align: right;\n    }\n</style>\n<table border=\"1\" class=\"dataframe\">\n  <thead>\n    <tr style=\"text-align: right;\">\n      <th></th>\n      <th>uf_busca</th>\n      <th>cidade_busca</th>\n    </tr>\n  </thead>\n  <tbody>\n    <tr>\n      <th>20454</th>\n      <td>PA</td>\n      <td>Santarem</td>\n    </tr>\n    <tr>\n      <th>22934</th>\n      <td>DF</td>\n      <td>Brasilia</td>\n    </tr>\n    <tr>\n      <th>39118</th>\n      <td>ES</td>\n      <td>Vitoria</td>\n    </tr>\n  </tbody>\n</table>\n</div>"
     },
     "metadata": {},
     "execution_count": 13
    }
   ],
   "source": [
    "# mostra a mensalidade minima por cidade\n",
    "# quando vc faz uma busca mais especifica muitas vezes tem que usar mais de um chete #pois tem que criar uma lista se tem mais de um indice isto é mais de um elemento #como abaixo tem uma pequna lista ['uf_busca','cidades_busca']\n",
    "df[df['mensalidade'] == df['mensalidade'].min()][['uf_busca','cidade_busca']]"
   ]
  },
  {
   "cell_type": "code",
   "execution_count": 14,
   "metadata": {},
   "outputs": [
    {
     "output_type": "execute_result",
     "data": {
      "text/plain": [
       "uf_busca\n",
       "AC    9674.34\n",
       "AL    7290.00\n",
       "AM    2127.05\n",
       "AP    3607.62\n",
       "BA    9048.00\n",
       "CE    9836.40\n",
       "DF    6757.92\n",
       "ES    6022.28\n",
       "GO    6484.47\n",
       "MA    8281.38\n",
       "MG    9350.00\n",
       "MS    9999.99\n",
       "MT    9208.00\n",
       "PA    8508.54\n",
       "PB    8350.00\n",
       "PE    7250.00\n",
       "PI    8402.00\n",
       "PR    8466.72\n",
       "RJ    9023.07\n",
       "RN    6505.09\n",
       "RO    6909.97\n",
       "RR    1463.05\n",
       "RS    8329.95\n",
       "SC    6922.15\n",
       "SE    6490.00\n",
       "SP    9715.61\n",
       "TO    7800.00\n",
       "Name: mensalidade, dtype: float64"
      ]
     },
     "metadata": {},
     "execution_count": 14
    }
   ],
   "source": [
    "# qual a mensalidade mais cara por UF\n",
    "# foi agrupado o argumento uf_busca 'coluna'\n",
    "df.groupby('uf_busca')['mensalidade'].max()"
   ]
  },
  {
   "cell_type": "code",
   "execution_count": 15,
   "metadata": {},
   "outputs": [
    {
     "output_type": "execute_result",
     "data": {
      "text/plain": [
       "      uf_busca      cidade_busca  \\\n",
       "31940       AC        Rio Branco   \n",
       "31941       AL            Maceio   \n",
       "32962       AM            Manaus   \n",
       "32966       AP            Macapa   \n",
       "31945       BA  Lauro de Freitas   \n",
       "12916       CE           Crateus   \n",
       "31950       DF          Brasilia   \n",
       "31952       ES          Colatina   \n",
       "31957       GO           Goiania   \n",
       "31959       MA        Imperatriz   \n",
       "31983       MG  Sao Joao Del Rei   \n",
       "31987       MS      Campo Grande   \n",
       "31988       MT            Cuiaba   \n",
       "31990       PA             Belem   \n",
       "31995       PB       Joao Pessoa   \n",
       "31997       PE            Olinda   \n",
       "32001       PI          Parnaiba   \n",
       "11916       PR          Curitiba   \n",
       "32012       RJ         Itaperuna   \n",
       "32017       RN             Natal   \n",
       "32019       RO       Porto Velho   \n",
       "33143       RR         Boa VIsta   \n",
       "32022       RS     Caxias do Sul   \n",
       "32036       SC        Rio do Sul   \n",
       "32038       SE           Aracaju   \n",
       "32058       SP         Sao Paulo   \n",
       "32062       TO            Palmas   \n",
       "\n",
       "                                       universidade_nome  \\\n",
       "31940                Faculdade Barão do Rio Branco - FAB   \n",
       "31941             Centro Universitário Tiradentes - FITS   \n",
       "32962                         Faculdade Uninassau Manaus   \n",
       "32966    Instituto Macapaense de Ensino Superior - IMMES   \n",
       "31945    Faculdade de Ciências Agrárias e da Saúde - FAS   \n",
       "12916                  Faculdade Princesa do Oeste - FPO   \n",
       "31950  Faculdades Integradas da União Educacional do ...   \n",
       "31952  Centro Universitário do Espírito Santo - Unesc...   \n",
       "31957  Pontifícia Universidade Católica de Goiás - PU...   \n",
       "31959        Universidade do Ceuma - Uniceuma - UNICEUMA   \n",
       "31983  Centro Universitário Presidente Tancredo de Al...   \n",
       "31987                  Universidade Anhanguera - UNIDERP   \n",
       "31988                Universidade de Cuiabá - UNIC/UNIME   \n",
       "31990        Faculdade Metropolitana da Amazônia - FAMAZ   \n",
       "31995      Faculdade de Medicina Nova Esperança - FAMENE   \n",
       "31997              Faculdade de Medicina de Olinda - FMO   \n",
       "32001  Faculdade de Ciências Humanas,Exatas e da Saúd...   \n",
       "11916                          Faculdade Dom Bosco - FDB   \n",
       "32012                   Faculdade Redentor - FACREDENTOR   \n",
       "32017                        Universidade Potiguar - UNP   \n",
       "32019             Centro Universitário São Lucas - UniSL   \n",
       "33143                        Faculdade Cathedral - FACES   \n",
       "32022                Universidade de Caxias do Sul - UCS   \n",
       "32036  Centro Universitário para O Desenvolvimento do...   \n",
       "32038                     Universidade Tiradentes - UNIT   \n",
       "32058          Universidade Cidade de São Paulo - UNICID   \n",
       "32062  Faculdade de Ciências Humanas, Econômicas e da...   \n",
       "\n",
       "                                             campus_nome             nome  \\\n",
       "31940  CAMPUS  - RIO BRANCO - JARDIM EUROPA II - Jard...         Medicina   \n",
       "31941  CAMPUS  - MACEIÓ - CRUZ DAS ALMAS - Cruz das A...         Medicina   \n",
       "32962  FACULDADE SANTA DOROTEIA DO AMAZONAS - Nossa S...      Odontologia   \n",
       "32966                 CAMPUS  - MACAPÁ - CENTRO - Centro      Odontologia   \n",
       "31945                              UNIDADE SEDE - Centro         Medicina   \n",
       "12916                         UNIDADE SEDE - São Vicente       Enfermagem   \n",
       "31950                    UNIDADE GAMA - Setor Leste Gama         Medicina   \n",
       "31952                          UNIDADE SEDE - Martinelli         Medicina   \n",
       "31957               GOIÂNIA (SEDE) - SETOR UNIVERSITÁRIO         Medicina   \n",
       "31959  UNIVERSIDADE DO CEUMA - UNICEUMA - CAMPUS IMPE...         Medicina   \n",
       "31983                  UNIDADE SEDE (UNIDADE) - Fábricas         Medicina   \n",
       "31987                 CAMPO GRANDE - SEDE - Miguel Couto         Medicina   \n",
       "31988            UNIC - BEIRA RIO (SEDE) - Jardim Europa         Medicina   \n",
       "31990  FACULDADE METROPOLITANA DA AMAZÔNIA - FAMAZ - ...         Medicina   \n",
       "31995                    CAMPUS  - JOÃO PESSOA - Gramame         Medicina   \n",
       "31997                   OLINDA-BAIRRO NOVO - Bairro Novo         Medicina   \n",
       "32001  CAMPUS PRINCIPAL / FAHESP- FACULDADE DE CIÊNCI...         Medicina   \n",
       "11916                            UNIDADE MERCÊS - Mercês  Educação Física   \n",
       "32012  CAMPUS  - ITAPERUNA - PRESIDENTE COSTA E SILVA...         Medicina   \n",
       "32017  CAMPUS NATAL - UNIDADE SALGADO FILHO - Lagoa Nova         Medicina   \n",
       "32019              CAMPUS  - PORTO VELHO - AREAL - Areal         Medicina   \n",
       "33143              CAMPUS  - BOA VISTA - CAÇARI - Caçari      Odontologia   \n",
       "32022                           CAMPUS SEDE - Petrópolis         Medicina   \n",
       "32036       CAMPUS DE RIO DO SUL - SEDE - Jardim América         Medicina   \n",
       "32038             CAMPUS ARACAJU FAROLÂNDIA - Farolândia         Medicina   \n",
       "32058  UNIVERSIDADE CIDADE DE SÃO PAULO - UNICID - SE...         Medicina   \n",
       "32062  FACULDADE DE CIÊNCIAS HUMANAS, ECONÔMICAS E DA...         Medicina   \n",
       "\n",
       "               grau     turno  mensalidade  bolsa_integral_cotas  \\\n",
       "31940   Bacharelado  Integral      9674.34                   4.0   \n",
       "31941   Bacharelado  Integral      7290.00                   5.0   \n",
       "32962   Bacharelado  Matutino      2127.05                   4.0   \n",
       "32966   Bacharelado   Noturno      3607.62                   0.0   \n",
       "31945   Bacharelado  Integral      9048.00                  13.0   \n",
       "12916   Bacharelado   Noturno      9836.40                   1.0   \n",
       "31950   Bacharelado  Integral      6757.92                   8.0   \n",
       "31952   Bacharelado  Integral      6022.28                   NaN   \n",
       "31957   Bacharelado  Integral      6484.47                   3.0   \n",
       "31959   Bacharelado  Integral      8281.38                   3.0   \n",
       "31983   Bacharelado  Integral      9350.00                   4.0   \n",
       "31987   Bacharelado  Integral      9999.99                  15.0   \n",
       "31988   Bacharelado  Integral      9208.00                   7.0   \n",
       "31990   Bacharelado  Integral      8508.54                   2.0   \n",
       "31995   Bacharelado  Integral      8350.00                   4.0   \n",
       "31997   Bacharelado  Integral      7250.00                   3.0   \n",
       "32001   Bacharelado  Integral      8402.00                   4.0   \n",
       "11916  Licenciatura  Matutino      8466.72                   1.0   \n",
       "32012   Bacharelado  Integral      9023.07                   4.0   \n",
       "32017   Bacharelado  Integral      6505.09                  10.0   \n",
       "32019   Bacharelado  Integral      6909.97                   4.0   \n",
       "33143   Bacharelado  Integral      1463.05                   2.0   \n",
       "32022   Bacharelado  Integral      8329.95                   1.0   \n",
       "32036   Bacharelado  Integral      6922.15                   0.0   \n",
       "32038   Bacharelado  Integral      6490.00                   5.0   \n",
       "32058   Bacharelado  Integral      9715.61                   2.0   \n",
       "32062   Bacharelado  Integral      7800.00                   4.0   \n",
       "\n",
       "       bolsa_integral_ampla  bolsa_parcial_cotas  bolsa_parcial_ampla  \\\n",
       "31940                   1.0                  5.0                  2.0   \n",
       "31941                   2.0                  NaN                  NaN   \n",
       "32962                   1.0                  NaN                  NaN   \n",
       "32966                   1.0                  NaN                  1.0   \n",
       "31945                   4.0                  NaN                  NaN   \n",
       "12916                   NaN                  NaN                  NaN   \n",
       "31950                   7.0                  NaN                  NaN   \n",
       "31952                   NaN                  3.0                  3.0   \n",
       "31957                   2.0                  NaN                  NaN   \n",
       "31959                   1.0                  6.0                  2.0   \n",
       "31983                   3.0                  NaN                  NaN   \n",
       "31987                  14.0                  NaN                  NaN   \n",
       "31988                   5.0                  NaN                  NaN   \n",
       "31990                   1.0                  7.0                  2.0   \n",
       "31995                   3.0                  NaN                  NaN   \n",
       "31997                   2.0                  NaN                  NaN   \n",
       "32001                   1.0                  NaN                  NaN   \n",
       "11916                   2.0                  NaN                  NaN   \n",
       "32012                   4.0                  5.0                  5.0   \n",
       "32017                   8.0                  NaN                  NaN   \n",
       "32019                   3.0                  9.0                  5.0   \n",
       "33143                   1.0                  3.0                  1.0   \n",
       "32022                   4.0                  NaN                  NaN   \n",
       "32036                   3.0                  NaN                  NaN   \n",
       "32038                   2.0                  NaN                  NaN   \n",
       "32058                   5.0                  6.0                 10.0   \n",
       "32062                   1.0                  NaN                  NaN   \n",
       "\n",
       "       nota_integral_ampla  nota_integral_cotas  nota_parcial_ampla  \\\n",
       "31940               758.32               723.94              734.92   \n",
       "31941               753.02               735.26                 NaN   \n",
       "32962               639.22               628.52                 NaN   \n",
       "32966               690.32                  NaN              620.44   \n",
       "31945               741.04               730.36                 NaN   \n",
       "12916               663.36                  NaN                 NaN   \n",
       "31950               745.58               731.24                 NaN   \n",
       "31952                  NaN                  NaN              750.02   \n",
       "31957               763.24               749.98                 NaN   \n",
       "31959               756.46               737.88              747.14   \n",
       "31983               747.84               736.68                 NaN   \n",
       "31987               740.22               726.46                 NaN   \n",
       "31988               735.40               725.36                 NaN   \n",
       "31990               741.36               739.90              760.80   \n",
       "31995               759.76               736.94                 NaN   \n",
       "31997               748.88               733.34                 NaN   \n",
       "32001               772.82               739.86                 NaN   \n",
       "11916               579.20               570.40                 NaN   \n",
       "32012               741.06               729.02              730.98   \n",
       "32017               750.88               740.50                 NaN   \n",
       "32019               742.72               720.20              729.72   \n",
       "33143               685.20               675.74              609.98   \n",
       "32022               745.42               751.32                 NaN   \n",
       "32036               735.66                  NaN                 NaN   \n",
       "32038               753.04               742.36                 NaN   \n",
       "32058               739.62               738.08              738.96   \n",
       "32062               747.68               737.96                 NaN   \n",
       "\n",
       "       nota_parcial_cotas  \n",
       "31940              711.26  \n",
       "31941                 NaN  \n",
       "32962                 NaN  \n",
       "32966                 NaN  \n",
       "31945                 NaN  \n",
       "12916                 NaN  \n",
       "31950                 NaN  \n",
       "31952              727.00  \n",
       "31957                 NaN  \n",
       "31959              717.60  \n",
       "31983                 NaN  \n",
       "31987                 NaN  \n",
       "31988                 NaN  \n",
       "31990              715.10  \n",
       "31995                 NaN  \n",
       "31997                 NaN  \n",
       "32001                 NaN  \n",
       "11916                 NaN  \n",
       "32012              722.82  \n",
       "32017                 NaN  \n",
       "32019              711.68  \n",
       "33143              573.48  \n",
       "32022                 NaN  \n",
       "32036                 NaN  \n",
       "32038                 NaN  \n",
       "32058              718.64  \n",
       "32062                 NaN  "
      ],
      "text/html": "<div>\n<style scoped>\n    .dataframe tbody tr th:only-of-type {\n        vertical-align: middle;\n    }\n\n    .dataframe tbody tr th {\n        vertical-align: top;\n    }\n\n    .dataframe thead th {\n        text-align: right;\n    }\n</style>\n<table border=\"1\" class=\"dataframe\">\n  <thead>\n    <tr style=\"text-align: right;\">\n      <th></th>\n      <th>uf_busca</th>\n      <th>cidade_busca</th>\n      <th>universidade_nome</th>\n      <th>campus_nome</th>\n      <th>nome</th>\n      <th>grau</th>\n      <th>turno</th>\n      <th>mensalidade</th>\n      <th>bolsa_integral_cotas</th>\n      <th>bolsa_integral_ampla</th>\n      <th>bolsa_parcial_cotas</th>\n      <th>bolsa_parcial_ampla</th>\n      <th>nota_integral_ampla</th>\n      <th>nota_integral_cotas</th>\n      <th>nota_parcial_ampla</th>\n      <th>nota_parcial_cotas</th>\n    </tr>\n  </thead>\n  <tbody>\n    <tr>\n      <th>31940</th>\n      <td>AC</td>\n      <td>Rio Branco</td>\n      <td>Faculdade Barão do Rio Branco - FAB</td>\n      <td>CAMPUS  - RIO BRANCO - JARDIM EUROPA II - Jard...</td>\n      <td>Medicina</td>\n      <td>Bacharelado</td>\n      <td>Integral</td>\n      <td>9674.34</td>\n      <td>4.0</td>\n      <td>1.0</td>\n      <td>5.0</td>\n      <td>2.0</td>\n      <td>758.32</td>\n      <td>723.94</td>\n      <td>734.92</td>\n      <td>711.26</td>\n    </tr>\n    <tr>\n      <th>31941</th>\n      <td>AL</td>\n      <td>Maceio</td>\n      <td>Centro Universitário Tiradentes - FITS</td>\n      <td>CAMPUS  - MACEIÓ - CRUZ DAS ALMAS - Cruz das A...</td>\n      <td>Medicina</td>\n      <td>Bacharelado</td>\n      <td>Integral</td>\n      <td>7290.00</td>\n      <td>5.0</td>\n      <td>2.0</td>\n      <td>NaN</td>\n      <td>NaN</td>\n      <td>753.02</td>\n      <td>735.26</td>\n      <td>NaN</td>\n      <td>NaN</td>\n    </tr>\n    <tr>\n      <th>32962</th>\n      <td>AM</td>\n      <td>Manaus</td>\n      <td>Faculdade Uninassau Manaus</td>\n      <td>FACULDADE SANTA DOROTEIA DO AMAZONAS - Nossa S...</td>\n      <td>Odontologia</td>\n      <td>Bacharelado</td>\n      <td>Matutino</td>\n      <td>2127.05</td>\n      <td>4.0</td>\n      <td>1.0</td>\n      <td>NaN</td>\n      <td>NaN</td>\n      <td>639.22</td>\n      <td>628.52</td>\n      <td>NaN</td>\n      <td>NaN</td>\n    </tr>\n    <tr>\n      <th>32966</th>\n      <td>AP</td>\n      <td>Macapa</td>\n      <td>Instituto Macapaense de Ensino Superior - IMMES</td>\n      <td>CAMPUS  - MACAPÁ - CENTRO - Centro</td>\n      <td>Odontologia</td>\n      <td>Bacharelado</td>\n      <td>Noturno</td>\n      <td>3607.62</td>\n      <td>0.0</td>\n      <td>1.0</td>\n      <td>NaN</td>\n      <td>1.0</td>\n      <td>690.32</td>\n      <td>NaN</td>\n      <td>620.44</td>\n      <td>NaN</td>\n    </tr>\n    <tr>\n      <th>31945</th>\n      <td>BA</td>\n      <td>Lauro de Freitas</td>\n      <td>Faculdade de Ciências Agrárias e da Saúde - FAS</td>\n      <td>UNIDADE SEDE - Centro</td>\n      <td>Medicina</td>\n      <td>Bacharelado</td>\n      <td>Integral</td>\n      <td>9048.00</td>\n      <td>13.0</td>\n      <td>4.0</td>\n      <td>NaN</td>\n      <td>NaN</td>\n      <td>741.04</td>\n      <td>730.36</td>\n      <td>NaN</td>\n      <td>NaN</td>\n    </tr>\n    <tr>\n      <th>12916</th>\n      <td>CE</td>\n      <td>Crateus</td>\n      <td>Faculdade Princesa do Oeste - FPO</td>\n      <td>UNIDADE SEDE - São Vicente</td>\n      <td>Enfermagem</td>\n      <td>Bacharelado</td>\n      <td>Noturno</td>\n      <td>9836.40</td>\n      <td>1.0</td>\n      <td>NaN</td>\n      <td>NaN</td>\n      <td>NaN</td>\n      <td>663.36</td>\n      <td>NaN</td>\n      <td>NaN</td>\n      <td>NaN</td>\n    </tr>\n    <tr>\n      <th>31950</th>\n      <td>DF</td>\n      <td>Brasilia</td>\n      <td>Faculdades Integradas da União Educacional do ...</td>\n      <td>UNIDADE GAMA - Setor Leste Gama</td>\n      <td>Medicina</td>\n      <td>Bacharelado</td>\n      <td>Integral</td>\n      <td>6757.92</td>\n      <td>8.0</td>\n      <td>7.0</td>\n      <td>NaN</td>\n      <td>NaN</td>\n      <td>745.58</td>\n      <td>731.24</td>\n      <td>NaN</td>\n      <td>NaN</td>\n    </tr>\n    <tr>\n      <th>31952</th>\n      <td>ES</td>\n      <td>Colatina</td>\n      <td>Centro Universitário do Espírito Santo - Unesc...</td>\n      <td>UNIDADE SEDE - Martinelli</td>\n      <td>Medicina</td>\n      <td>Bacharelado</td>\n      <td>Integral</td>\n      <td>6022.28</td>\n      <td>NaN</td>\n      <td>NaN</td>\n      <td>3.0</td>\n      <td>3.0</td>\n      <td>NaN</td>\n      <td>NaN</td>\n      <td>750.02</td>\n      <td>727.00</td>\n    </tr>\n    <tr>\n      <th>31957</th>\n      <td>GO</td>\n      <td>Goiania</td>\n      <td>Pontifícia Universidade Católica de Goiás - PU...</td>\n      <td>GOIÂNIA (SEDE) - SETOR UNIVERSITÁRIO</td>\n      <td>Medicina</td>\n      <td>Bacharelado</td>\n      <td>Integral</td>\n      <td>6484.47</td>\n      <td>3.0</td>\n      <td>2.0</td>\n      <td>NaN</td>\n      <td>NaN</td>\n      <td>763.24</td>\n      <td>749.98</td>\n      <td>NaN</td>\n      <td>NaN</td>\n    </tr>\n    <tr>\n      <th>31959</th>\n      <td>MA</td>\n      <td>Imperatriz</td>\n      <td>Universidade do Ceuma - Uniceuma - UNICEUMA</td>\n      <td>UNIVERSIDADE DO CEUMA - UNICEUMA - CAMPUS IMPE...</td>\n      <td>Medicina</td>\n      <td>Bacharelado</td>\n      <td>Integral</td>\n      <td>8281.38</td>\n      <td>3.0</td>\n      <td>1.0</td>\n      <td>6.0</td>\n      <td>2.0</td>\n      <td>756.46</td>\n      <td>737.88</td>\n      <td>747.14</td>\n      <td>717.60</td>\n    </tr>\n    <tr>\n      <th>31983</th>\n      <td>MG</td>\n      <td>Sao Joao Del Rei</td>\n      <td>Centro Universitário Presidente Tancredo de Al...</td>\n      <td>UNIDADE SEDE (UNIDADE) - Fábricas</td>\n      <td>Medicina</td>\n      <td>Bacharelado</td>\n      <td>Integral</td>\n      <td>9350.00</td>\n      <td>4.0</td>\n      <td>3.0</td>\n      <td>NaN</td>\n      <td>NaN</td>\n      <td>747.84</td>\n      <td>736.68</td>\n      <td>NaN</td>\n      <td>NaN</td>\n    </tr>\n    <tr>\n      <th>31987</th>\n      <td>MS</td>\n      <td>Campo Grande</td>\n      <td>Universidade Anhanguera - UNIDERP</td>\n      <td>CAMPO GRANDE - SEDE - Miguel Couto</td>\n      <td>Medicina</td>\n      <td>Bacharelado</td>\n      <td>Integral</td>\n      <td>9999.99</td>\n      <td>15.0</td>\n      <td>14.0</td>\n      <td>NaN</td>\n      <td>NaN</td>\n      <td>740.22</td>\n      <td>726.46</td>\n      <td>NaN</td>\n      <td>NaN</td>\n    </tr>\n    <tr>\n      <th>31988</th>\n      <td>MT</td>\n      <td>Cuiaba</td>\n      <td>Universidade de Cuiabá - UNIC/UNIME</td>\n      <td>UNIC - BEIRA RIO (SEDE) - Jardim Europa</td>\n      <td>Medicina</td>\n      <td>Bacharelado</td>\n      <td>Integral</td>\n      <td>9208.00</td>\n      <td>7.0</td>\n      <td>5.0</td>\n      <td>NaN</td>\n      <td>NaN</td>\n      <td>735.40</td>\n      <td>725.36</td>\n      <td>NaN</td>\n      <td>NaN</td>\n    </tr>\n    <tr>\n      <th>31990</th>\n      <td>PA</td>\n      <td>Belem</td>\n      <td>Faculdade Metropolitana da Amazônia - FAMAZ</td>\n      <td>FACULDADE METROPOLITANA DA AMAZÔNIA - FAMAZ - ...</td>\n      <td>Medicina</td>\n      <td>Bacharelado</td>\n      <td>Integral</td>\n      <td>8508.54</td>\n      <td>2.0</td>\n      <td>1.0</td>\n      <td>7.0</td>\n      <td>2.0</td>\n      <td>741.36</td>\n      <td>739.90</td>\n      <td>760.80</td>\n      <td>715.10</td>\n    </tr>\n    <tr>\n      <th>31995</th>\n      <td>PB</td>\n      <td>Joao Pessoa</td>\n      <td>Faculdade de Medicina Nova Esperança - FAMENE</td>\n      <td>CAMPUS  - JOÃO PESSOA - Gramame</td>\n      <td>Medicina</td>\n      <td>Bacharelado</td>\n      <td>Integral</td>\n      <td>8350.00</td>\n      <td>4.0</td>\n      <td>3.0</td>\n      <td>NaN</td>\n      <td>NaN</td>\n      <td>759.76</td>\n      <td>736.94</td>\n      <td>NaN</td>\n      <td>NaN</td>\n    </tr>\n    <tr>\n      <th>31997</th>\n      <td>PE</td>\n      <td>Olinda</td>\n      <td>Faculdade de Medicina de Olinda - FMO</td>\n      <td>OLINDA-BAIRRO NOVO - Bairro Novo</td>\n      <td>Medicina</td>\n      <td>Bacharelado</td>\n      <td>Integral</td>\n      <td>7250.00</td>\n      <td>3.0</td>\n      <td>2.0</td>\n      <td>NaN</td>\n      <td>NaN</td>\n      <td>748.88</td>\n      <td>733.34</td>\n      <td>NaN</td>\n      <td>NaN</td>\n    </tr>\n    <tr>\n      <th>32001</th>\n      <td>PI</td>\n      <td>Parnaiba</td>\n      <td>Faculdade de Ciências Humanas,Exatas e da Saúd...</td>\n      <td>CAMPUS PRINCIPAL / FAHESP- FACULDADE DE CIÊNCI...</td>\n      <td>Medicina</td>\n      <td>Bacharelado</td>\n      <td>Integral</td>\n      <td>8402.00</td>\n      <td>4.0</td>\n      <td>1.0</td>\n      <td>NaN</td>\n      <td>NaN</td>\n      <td>772.82</td>\n      <td>739.86</td>\n      <td>NaN</td>\n      <td>NaN</td>\n    </tr>\n    <tr>\n      <th>11916</th>\n      <td>PR</td>\n      <td>Curitiba</td>\n      <td>Faculdade Dom Bosco - FDB</td>\n      <td>UNIDADE MERCÊS - Mercês</td>\n      <td>Educação Física</td>\n      <td>Licenciatura</td>\n      <td>Matutino</td>\n      <td>8466.72</td>\n      <td>1.0</td>\n      <td>2.0</td>\n      <td>NaN</td>\n      <td>NaN</td>\n      <td>579.20</td>\n      <td>570.40</td>\n      <td>NaN</td>\n      <td>NaN</td>\n    </tr>\n    <tr>\n      <th>32012</th>\n      <td>RJ</td>\n      <td>Itaperuna</td>\n      <td>Faculdade Redentor - FACREDENTOR</td>\n      <td>CAMPUS  - ITAPERUNA - PRESIDENTE COSTA E SILVA...</td>\n      <td>Medicina</td>\n      <td>Bacharelado</td>\n      <td>Integral</td>\n      <td>9023.07</td>\n      <td>4.0</td>\n      <td>4.0</td>\n      <td>5.0</td>\n      <td>5.0</td>\n      <td>741.06</td>\n      <td>729.02</td>\n      <td>730.98</td>\n      <td>722.82</td>\n    </tr>\n    <tr>\n      <th>32017</th>\n      <td>RN</td>\n      <td>Natal</td>\n      <td>Universidade Potiguar - UNP</td>\n      <td>CAMPUS NATAL - UNIDADE SALGADO FILHO - Lagoa Nova</td>\n      <td>Medicina</td>\n      <td>Bacharelado</td>\n      <td>Integral</td>\n      <td>6505.09</td>\n      <td>10.0</td>\n      <td>8.0</td>\n      <td>NaN</td>\n      <td>NaN</td>\n      <td>750.88</td>\n      <td>740.50</td>\n      <td>NaN</td>\n      <td>NaN</td>\n    </tr>\n    <tr>\n      <th>32019</th>\n      <td>RO</td>\n      <td>Porto Velho</td>\n      <td>Centro Universitário São Lucas - UniSL</td>\n      <td>CAMPUS  - PORTO VELHO - AREAL - Areal</td>\n      <td>Medicina</td>\n      <td>Bacharelado</td>\n      <td>Integral</td>\n      <td>6909.97</td>\n      <td>4.0</td>\n      <td>3.0</td>\n      <td>9.0</td>\n      <td>5.0</td>\n      <td>742.72</td>\n      <td>720.20</td>\n      <td>729.72</td>\n      <td>711.68</td>\n    </tr>\n    <tr>\n      <th>33143</th>\n      <td>RR</td>\n      <td>Boa VIsta</td>\n      <td>Faculdade Cathedral - FACES</td>\n      <td>CAMPUS  - BOA VISTA - CAÇARI - Caçari</td>\n      <td>Odontologia</td>\n      <td>Bacharelado</td>\n      <td>Integral</td>\n      <td>1463.05</td>\n      <td>2.0</td>\n      <td>1.0</td>\n      <td>3.0</td>\n      <td>1.0</td>\n      <td>685.20</td>\n      <td>675.74</td>\n      <td>609.98</td>\n      <td>573.48</td>\n    </tr>\n    <tr>\n      <th>32022</th>\n      <td>RS</td>\n      <td>Caxias do Sul</td>\n      <td>Universidade de Caxias do Sul - UCS</td>\n      <td>CAMPUS SEDE - Petrópolis</td>\n      <td>Medicina</td>\n      <td>Bacharelado</td>\n      <td>Integral</td>\n      <td>8329.95</td>\n      <td>1.0</td>\n      <td>4.0</td>\n      <td>NaN</td>\n      <td>NaN</td>\n      <td>745.42</td>\n      <td>751.32</td>\n      <td>NaN</td>\n      <td>NaN</td>\n    </tr>\n    <tr>\n      <th>32036</th>\n      <td>SC</td>\n      <td>Rio do Sul</td>\n      <td>Centro Universitário para O Desenvolvimento do...</td>\n      <td>CAMPUS DE RIO DO SUL - SEDE - Jardim América</td>\n      <td>Medicina</td>\n      <td>Bacharelado</td>\n      <td>Integral</td>\n      <td>6922.15</td>\n      <td>0.0</td>\n      <td>3.0</td>\n      <td>NaN</td>\n      <td>NaN</td>\n      <td>735.66</td>\n      <td>NaN</td>\n      <td>NaN</td>\n      <td>NaN</td>\n    </tr>\n    <tr>\n      <th>32038</th>\n      <td>SE</td>\n      <td>Aracaju</td>\n      <td>Universidade Tiradentes - UNIT</td>\n      <td>CAMPUS ARACAJU FAROLÂNDIA - Farolândia</td>\n      <td>Medicina</td>\n      <td>Bacharelado</td>\n      <td>Integral</td>\n      <td>6490.00</td>\n      <td>5.0</td>\n      <td>2.0</td>\n      <td>NaN</td>\n      <td>NaN</td>\n      <td>753.04</td>\n      <td>742.36</td>\n      <td>NaN</td>\n      <td>NaN</td>\n    </tr>\n    <tr>\n      <th>32058</th>\n      <td>SP</td>\n      <td>Sao Paulo</td>\n      <td>Universidade Cidade de São Paulo - UNICID</td>\n      <td>UNIVERSIDADE CIDADE DE SÃO PAULO - UNICID - SE...</td>\n      <td>Medicina</td>\n      <td>Bacharelado</td>\n      <td>Integral</td>\n      <td>9715.61</td>\n      <td>2.0</td>\n      <td>5.0</td>\n      <td>6.0</td>\n      <td>10.0</td>\n      <td>739.62</td>\n      <td>738.08</td>\n      <td>738.96</td>\n      <td>718.64</td>\n    </tr>\n    <tr>\n      <th>32062</th>\n      <td>TO</td>\n      <td>Palmas</td>\n      <td>Faculdade de Ciências Humanas, Econômicas e da...</td>\n      <td>FACULDADE DE CIÊNCIAS HUMANAS, ECONÔMICAS E DA...</td>\n      <td>Medicina</td>\n      <td>Bacharelado</td>\n      <td>Integral</td>\n      <td>7800.00</td>\n      <td>4.0</td>\n      <td>1.0</td>\n      <td>NaN</td>\n      <td>NaN</td>\n      <td>747.68</td>\n      <td>737.96</td>\n      <td>NaN</td>\n      <td>NaN</td>\n    </tr>\n  </tbody>\n</table>\n</div>"
     },
     "metadata": {},
     "execution_count": 15
    }
   ],
   "source": [
    "# mostra todos os dados dos cursos mais caros dos UF\n",
    "# mostrou o  nome do curso\n",
    "df.loc[df.groupby('uf_busca')['mensalidade'].idxmax()]"
   ]
  },
  {
   "cell_type": "code",
   "execution_count": 16,
   "metadata": {},
   "outputs": [
    {
     "output_type": "execute_result",
     "data": {
      "text/plain": [
       "      uf_busca    cidade_busca  \\\n",
       "5           AC      Rio Branco   \n",
       "9           AC      Rio Branco   \n",
       "10          AC      Rio Branco   \n",
       "13          AL       Arapiraca   \n",
       "18          AL          Maceio   \n",
       "...        ...             ...   \n",
       "41435       BA        Salvador   \n",
       "41437       MA           Timon   \n",
       "41438       MG  Patos de Minas   \n",
       "41441       MT         Jaciara   \n",
       "41442       PA        Redencao   \n",
       "\n",
       "                                       universidade_nome  \\\n",
       "5                    Faculdade Barão do Rio Branco - FAB   \n",
       "9                                Faculdade Meta - FAMETA   \n",
       "10     Unama Faculdade da Amazônia de Rio Branco - FM...   \n",
       "13                         Faculdade Uninassau Arapiraca   \n",
       "18     Centro Universitário Maurício de Nassau de Mac...   \n",
       "...                                                  ...   \n",
       "41435                 Faculdade Regional da Bahia - FARB   \n",
       "41437       Instituto de Ensino Superior Múltiplo - IESM   \n",
       "41438  Centro Universitário de Patos de Minas - Unipa...   \n",
       "41441  Faculdade de Ciências Sociais Aplicadas do Val...   \n",
       "41442  Faculdade de Ensino Superior da Amazônia Reuni...   \n",
       "\n",
       "                                             campus_nome  \\\n",
       "5      CAMPUS  - RIO BRANCO - JARDIM EUROPA II - Jard...   \n",
       "9                      FACULDADE META - Conjunto Mariana   \n",
       "10                         CAMPUS PRINCIPAL - Abrão Alab   \n",
       "13                             CAMPUS PRINCIPAL - Centro   \n",
       "18                            UNIDADE SEDE - Ponta Verde   \n",
       "...                                                  ...   \n",
       "41435                                  UNIRB - Patamares   \n",
       "41437  CAMPUS  - TIMON - PARQUE SÃO FRANCISCO - Parqu...   \n",
       "41438                            UNIDADE SEDE - Caiçaras   \n",
       "41441                CAMPUS  - JACIARA - CENTRO - Centro   \n",
       "41442                         POLO NA SEDE - ALTO PARANÁ   \n",
       "\n",
       "                         nome         grau       turno  mensalidade  \\\n",
       "5               Administração  Bacharelado     Noturno       823.22   \n",
       "9               Administração  Bacharelado     Noturno       522.79   \n",
       "10              Administração  Bacharelado     Noturno       672.15   \n",
       "13              Administração  Bacharelado     Noturno       586.63   \n",
       "18              Administração  Bacharelado     Noturno       586.63   \n",
       "...                       ...          ...         ...          ...   \n",
       "41435  Viticultura e Enologia  Tecnológico     Noturno       840.00   \n",
       "41437               Zootecnia  Bacharelado  Vespertino       689.22   \n",
       "41438               Zootecnia  Bacharelado     Noturno       951.29   \n",
       "41441               Zootecnia  Bacharelado     Noturno       990.00   \n",
       "41442               Zootecnia  Bacharelado     Noturno       932.83   \n",
       "\n",
       "       bolsa_integral_cotas  bolsa_integral_ampla  bolsa_parcial_cotas  \\\n",
       "5                       NaN                   NaN                  NaN   \n",
       "9                       0.0                   2.0                  NaN   \n",
       "10                      2.0                   1.0                  NaN   \n",
       "13                      2.0                   1.0                  NaN   \n",
       "18                      2.0                   1.0                  NaN   \n",
       "...                     ...                   ...                  ...   \n",
       "41435                   2.0                   NaN                  4.0   \n",
       "41437                   2.0                   NaN                  NaN   \n",
       "41438                   0.0                   2.0                  NaN   \n",
       "41441                   1.0                   NaN                  2.0   \n",
       "41442                   3.0                   1.0                  NaN   \n",
       "\n",
       "       bolsa_parcial_ampla  nota_integral_ampla  nota_integral_cotas  \\\n",
       "5                      2.0                  NaN                  NaN   \n",
       "9                      2.0               606.40                  NaN   \n",
       "10                     NaN               567.98               568.88   \n",
       "13                     NaN               658.26               593.30   \n",
       "18                     NaN               598.60               578.98   \n",
       "...                    ...                  ...                  ...   \n",
       "41435                  1.0               502.08                  NaN   \n",
       "41437                  2.0               569.46                  NaN   \n",
       "41438                  NaN               610.40                  NaN   \n",
       "41441                  8.0               583.68                  NaN   \n",
       "41442                  NaN               634.46               578.50   \n",
       "\n",
       "       nota_parcial_ampla  nota_parcial_cotas  \n",
       "5                  564.24                 NaN  \n",
       "9                  582.24                 NaN  \n",
       "10                    NaN                 NaN  \n",
       "13                    NaN                 NaN  \n",
       "18                    NaN                 NaN  \n",
       "...                   ...                 ...  \n",
       "41435              450.00              450.00  \n",
       "41437              557.98                 NaN  \n",
       "41438                 NaN                 NaN  \n",
       "41441              540.48              518.86  \n",
       "41442                 NaN                 NaN  \n",
       "\n",
       "[10679 rows x 16 columns]"
      ],
      "text/html": "<div>\n<style scoped>\n    .dataframe tbody tr th:only-of-type {\n        vertical-align: middle;\n    }\n\n    .dataframe tbody tr th {\n        vertical-align: top;\n    }\n\n    .dataframe thead th {\n        text-align: right;\n    }\n</style>\n<table border=\"1\" class=\"dataframe\">\n  <thead>\n    <tr style=\"text-align: right;\">\n      <th></th>\n      <th>uf_busca</th>\n      <th>cidade_busca</th>\n      <th>universidade_nome</th>\n      <th>campus_nome</th>\n      <th>nome</th>\n      <th>grau</th>\n      <th>turno</th>\n      <th>mensalidade</th>\n      <th>bolsa_integral_cotas</th>\n      <th>bolsa_integral_ampla</th>\n      <th>bolsa_parcial_cotas</th>\n      <th>bolsa_parcial_ampla</th>\n      <th>nota_integral_ampla</th>\n      <th>nota_integral_cotas</th>\n      <th>nota_parcial_ampla</th>\n      <th>nota_parcial_cotas</th>\n    </tr>\n  </thead>\n  <tbody>\n    <tr>\n      <th>5</th>\n      <td>AC</td>\n      <td>Rio Branco</td>\n      <td>Faculdade Barão do Rio Branco - FAB</td>\n      <td>CAMPUS  - RIO BRANCO - JARDIM EUROPA II - Jard...</td>\n      <td>Administração</td>\n      <td>Bacharelado</td>\n      <td>Noturno</td>\n      <td>823.22</td>\n      <td>NaN</td>\n      <td>NaN</td>\n      <td>NaN</td>\n      <td>2.0</td>\n      <td>NaN</td>\n      <td>NaN</td>\n      <td>564.24</td>\n      <td>NaN</td>\n    </tr>\n    <tr>\n      <th>9</th>\n      <td>AC</td>\n      <td>Rio Branco</td>\n      <td>Faculdade Meta - FAMETA</td>\n      <td>FACULDADE META - Conjunto Mariana</td>\n      <td>Administração</td>\n      <td>Bacharelado</td>\n      <td>Noturno</td>\n      <td>522.79</td>\n      <td>0.0</td>\n      <td>2.0</td>\n      <td>NaN</td>\n      <td>2.0</td>\n      <td>606.40</td>\n      <td>NaN</td>\n      <td>582.24</td>\n      <td>NaN</td>\n    </tr>\n    <tr>\n      <th>10</th>\n      <td>AC</td>\n      <td>Rio Branco</td>\n      <td>Unama Faculdade da Amazônia de Rio Branco - FM...</td>\n      <td>CAMPUS PRINCIPAL - Abrão Alab</td>\n      <td>Administração</td>\n      <td>Bacharelado</td>\n      <td>Noturno</td>\n      <td>672.15</td>\n      <td>2.0</td>\n      <td>1.0</td>\n      <td>NaN</td>\n      <td>NaN</td>\n      <td>567.98</td>\n      <td>568.88</td>\n      <td>NaN</td>\n      <td>NaN</td>\n    </tr>\n    <tr>\n      <th>13</th>\n      <td>AL</td>\n      <td>Arapiraca</td>\n      <td>Faculdade Uninassau Arapiraca</td>\n      <td>CAMPUS PRINCIPAL - Centro</td>\n      <td>Administração</td>\n      <td>Bacharelado</td>\n      <td>Noturno</td>\n      <td>586.63</td>\n      <td>2.0</td>\n      <td>1.0</td>\n      <td>NaN</td>\n      <td>NaN</td>\n      <td>658.26</td>\n      <td>593.30</td>\n      <td>NaN</td>\n      <td>NaN</td>\n    </tr>\n    <tr>\n      <th>18</th>\n      <td>AL</td>\n      <td>Maceio</td>\n      <td>Centro Universitário Maurício de Nassau de Mac...</td>\n      <td>UNIDADE SEDE - Ponta Verde</td>\n      <td>Administração</td>\n      <td>Bacharelado</td>\n      <td>Noturno</td>\n      <td>586.63</td>\n      <td>2.0</td>\n      <td>1.0</td>\n      <td>NaN</td>\n      <td>NaN</td>\n      <td>598.60</td>\n      <td>578.98</td>\n      <td>NaN</td>\n      <td>NaN</td>\n    </tr>\n    <tr>\n      <th>...</th>\n      <td>...</td>\n      <td>...</td>\n      <td>...</td>\n      <td>...</td>\n      <td>...</td>\n      <td>...</td>\n      <td>...</td>\n      <td>...</td>\n      <td>...</td>\n      <td>...</td>\n      <td>...</td>\n      <td>...</td>\n      <td>...</td>\n      <td>...</td>\n      <td>...</td>\n      <td>...</td>\n    </tr>\n    <tr>\n      <th>41435</th>\n      <td>BA</td>\n      <td>Salvador</td>\n      <td>Faculdade Regional da Bahia - FARB</td>\n      <td>UNIRB - Patamares</td>\n      <td>Viticultura e Enologia</td>\n      <td>Tecnológico</td>\n      <td>Noturno</td>\n      <td>840.00</td>\n      <td>2.0</td>\n      <td>NaN</td>\n      <td>4.0</td>\n      <td>1.0</td>\n      <td>502.08</td>\n      <td>NaN</td>\n      <td>450.00</td>\n      <td>450.00</td>\n    </tr>\n    <tr>\n      <th>41437</th>\n      <td>MA</td>\n      <td>Timon</td>\n      <td>Instituto de Ensino Superior Múltiplo - IESM</td>\n      <td>CAMPUS  - TIMON - PARQUE SÃO FRANCISCO - Parqu...</td>\n      <td>Zootecnia</td>\n      <td>Bacharelado</td>\n      <td>Vespertino</td>\n      <td>689.22</td>\n      <td>2.0</td>\n      <td>NaN</td>\n      <td>NaN</td>\n      <td>2.0</td>\n      <td>569.46</td>\n      <td>NaN</td>\n      <td>557.98</td>\n      <td>NaN</td>\n    </tr>\n    <tr>\n      <th>41438</th>\n      <td>MG</td>\n      <td>Patos de Minas</td>\n      <td>Centro Universitário de Patos de Minas - Unipa...</td>\n      <td>UNIDADE SEDE - Caiçaras</td>\n      <td>Zootecnia</td>\n      <td>Bacharelado</td>\n      <td>Noturno</td>\n      <td>951.29</td>\n      <td>0.0</td>\n      <td>2.0</td>\n      <td>NaN</td>\n      <td>NaN</td>\n      <td>610.40</td>\n      <td>NaN</td>\n      <td>NaN</td>\n      <td>NaN</td>\n    </tr>\n    <tr>\n      <th>41441</th>\n      <td>MT</td>\n      <td>Jaciara</td>\n      <td>Faculdade de Ciências Sociais Aplicadas do Val...</td>\n      <td>CAMPUS  - JACIARA - CENTRO - Centro</td>\n      <td>Zootecnia</td>\n      <td>Bacharelado</td>\n      <td>Noturno</td>\n      <td>990.00</td>\n      <td>1.0</td>\n      <td>NaN</td>\n      <td>2.0</td>\n      <td>8.0</td>\n      <td>583.68</td>\n      <td>NaN</td>\n      <td>540.48</td>\n      <td>518.86</td>\n    </tr>\n    <tr>\n      <th>41442</th>\n      <td>PA</td>\n      <td>Redencao</td>\n      <td>Faculdade de Ensino Superior da Amazônia Reuni...</td>\n      <td>POLO NA SEDE - ALTO PARANÁ</td>\n      <td>Zootecnia</td>\n      <td>Bacharelado</td>\n      <td>Noturno</td>\n      <td>932.83</td>\n      <td>3.0</td>\n      <td>1.0</td>\n      <td>NaN</td>\n      <td>NaN</td>\n      <td>634.46</td>\n      <td>578.50</td>\n      <td>NaN</td>\n      <td>NaN</td>\n    </tr>\n  </tbody>\n</table>\n<p>10679 rows × 16 columns</p>\n</div>"
     },
     "metadata": {},
     "execution_count": 16
    }
   ],
   "source": [
    "# mensalidade entre 500 e 1000\n",
    "df[(df['mensalidade'] > 500) & (df['mensalidade'] < 1000)]"
   ]
  },
  {
   "cell_type": "code",
   "execution_count": 17,
   "metadata": {},
   "outputs": [
    {
     "output_type": "execute_result",
     "data": {
      "text/plain": [
       "  uf_busca     cidade_busca  \\\n",
       "0       AC       Acrelandia   \n",
       "1       AC  Cruzeiro do Sul   \n",
       "\n",
       "                                   universidade_nome  \\\n",
       "0                       Universidade Paulista - UNIP   \n",
       "1  Centro Universitário Internacional - Uninter -...   \n",
       "\n",
       "                    campus_nome           nome         grau  \\\n",
       "0           ACRELANDIA - Centro  Administração  Bacharelado   \n",
       "1  PAP CRUZEIRO DO SUL - Centro  Administração  Bacharelado   \n",
       "\n",
       "               turno  mensalidade  bolsa_integral_cotas  bolsa_integral_ampla  \\\n",
       "0  Curso a Distância        289.0                   1.0                   1.0   \n",
       "1  Curso a Distância        298.0                   1.0                   NaN   \n",
       "\n",
       "   bolsa_parcial_cotas  bolsa_parcial_ampla  nota_integral_ampla  \\\n",
       "0                  NaN                  NaN               572.74   \n",
       "1                  NaN                  NaN               646.14   \n",
       "\n",
       "   nota_integral_cotas  nota_parcial_ampla  nota_parcial_cotas  \n",
       "0                548.0                 NaN                 NaN  \n",
       "1                  NaN                 NaN                 NaN  "
      ],
      "text/html": "<div>\n<style scoped>\n    .dataframe tbody tr th:only-of-type {\n        vertical-align: middle;\n    }\n\n    .dataframe tbody tr th {\n        vertical-align: top;\n    }\n\n    .dataframe thead th {\n        text-align: right;\n    }\n</style>\n<table border=\"1\" class=\"dataframe\">\n  <thead>\n    <tr style=\"text-align: right;\">\n      <th></th>\n      <th>uf_busca</th>\n      <th>cidade_busca</th>\n      <th>universidade_nome</th>\n      <th>campus_nome</th>\n      <th>nome</th>\n      <th>grau</th>\n      <th>turno</th>\n      <th>mensalidade</th>\n      <th>bolsa_integral_cotas</th>\n      <th>bolsa_integral_ampla</th>\n      <th>bolsa_parcial_cotas</th>\n      <th>bolsa_parcial_ampla</th>\n      <th>nota_integral_ampla</th>\n      <th>nota_integral_cotas</th>\n      <th>nota_parcial_ampla</th>\n      <th>nota_parcial_cotas</th>\n    </tr>\n  </thead>\n  <tbody>\n    <tr>\n      <th>0</th>\n      <td>AC</td>\n      <td>Acrelandia</td>\n      <td>Universidade Paulista - UNIP</td>\n      <td>ACRELANDIA - Centro</td>\n      <td>Administração</td>\n      <td>Bacharelado</td>\n      <td>Curso a Distância</td>\n      <td>289.0</td>\n      <td>1.0</td>\n      <td>1.0</td>\n      <td>NaN</td>\n      <td>NaN</td>\n      <td>572.74</td>\n      <td>548.0</td>\n      <td>NaN</td>\n      <td>NaN</td>\n    </tr>\n    <tr>\n      <th>1</th>\n      <td>AC</td>\n      <td>Cruzeiro do Sul</td>\n      <td>Centro Universitário Internacional - Uninter -...</td>\n      <td>PAP CRUZEIRO DO SUL - Centro</td>\n      <td>Administração</td>\n      <td>Bacharelado</td>\n      <td>Curso a Distância</td>\n      <td>298.0</td>\n      <td>1.0</td>\n      <td>NaN</td>\n      <td>NaN</td>\n      <td>NaN</td>\n      <td>646.14</td>\n      <td>NaN</td>\n      <td>NaN</td>\n      <td>NaN</td>\n    </tr>\n  </tbody>\n</table>\n</div>"
     },
     "metadata": {},
     "execution_count": 17
    }
   ],
   "source": [
    "df.head(2)"
   ]
  },
  {
   "cell_type": "code",
   "execution_count": 18,
   "metadata": {},
   "outputs": [
    {
     "output_type": "execute_result",
     "data": {
      "text/plain": [
       "      uf_busca  cidade_busca                          universidade_nome  \\\n",
       "31987       MS  Campo Grande          Universidade Anhanguera - UNIDERP   \n",
       "12916       CE       Crateus          Faculdade Princesa do Oeste - FPO   \n",
       "32058       SP     Sao Paulo  Universidade Cidade de São Paulo - UNICID   \n",
       "37058       CE       Crateus          Faculdade Princesa do Oeste - FPO   \n",
       "31940       AC    Rio Branco        Faculdade Barão do Rio Branco - FAB   \n",
       "\n",
       "                                             campus_nome        nome  \\\n",
       "31987                 CAMPO GRANDE - SEDE - Miguel Couto    Medicina   \n",
       "12916                         UNIDADE SEDE - São Vicente  Enfermagem   \n",
       "32058  UNIVERSIDADE CIDADE DE SÃO PAULO - UNICID - SE...    Medicina   \n",
       "37058                         UNIDADE SEDE - São Vicente  Psicologia   \n",
       "31940  CAMPUS  - RIO BRANCO - JARDIM EUROPA II - Jard...    Medicina   \n",
       "\n",
       "              grau     turno  mensalidade  bolsa_integral_cotas  \\\n",
       "31987  Bacharelado  Integral      9999.99                  15.0   \n",
       "12916  Bacharelado   Noturno      9836.40                   1.0   \n",
       "32058  Bacharelado  Integral      9715.61                   2.0   \n",
       "37058  Bacharelado   Noturno      9689.34                   3.0   \n",
       "31940  Bacharelado  Integral      9674.34                   4.0   \n",
       "\n",
       "       bolsa_integral_ampla  bolsa_parcial_cotas  bolsa_parcial_ampla  \\\n",
       "31987                  14.0                  NaN                  NaN   \n",
       "12916                   NaN                  NaN                  NaN   \n",
       "32058                   5.0                  6.0                 10.0   \n",
       "37058                   2.0                  NaN                  NaN   \n",
       "31940                   1.0                  5.0                  2.0   \n",
       "\n",
       "       nota_integral_ampla  nota_integral_cotas  nota_parcial_ampla  \\\n",
       "31987               740.22               726.46                 NaN   \n",
       "12916               663.36                  NaN                 NaN   \n",
       "32058               739.62               738.08              738.96   \n",
       "37058               651.00               652.22                 NaN   \n",
       "31940               758.32               723.94              734.92   \n",
       "\n",
       "       nota_parcial_cotas  \n",
       "31987                 NaN  \n",
       "12916                 NaN  \n",
       "32058              718.64  \n",
       "37058                 NaN  \n",
       "31940              711.26  "
      ],
      "text/html": "<div>\n<style scoped>\n    .dataframe tbody tr th:only-of-type {\n        vertical-align: middle;\n    }\n\n    .dataframe tbody tr th {\n        vertical-align: top;\n    }\n\n    .dataframe thead th {\n        text-align: right;\n    }\n</style>\n<table border=\"1\" class=\"dataframe\">\n  <thead>\n    <tr style=\"text-align: right;\">\n      <th></th>\n      <th>uf_busca</th>\n      <th>cidade_busca</th>\n      <th>universidade_nome</th>\n      <th>campus_nome</th>\n      <th>nome</th>\n      <th>grau</th>\n      <th>turno</th>\n      <th>mensalidade</th>\n      <th>bolsa_integral_cotas</th>\n      <th>bolsa_integral_ampla</th>\n      <th>bolsa_parcial_cotas</th>\n      <th>bolsa_parcial_ampla</th>\n      <th>nota_integral_ampla</th>\n      <th>nota_integral_cotas</th>\n      <th>nota_parcial_ampla</th>\n      <th>nota_parcial_cotas</th>\n    </tr>\n  </thead>\n  <tbody>\n    <tr>\n      <th>31987</th>\n      <td>MS</td>\n      <td>Campo Grande</td>\n      <td>Universidade Anhanguera - UNIDERP</td>\n      <td>CAMPO GRANDE - SEDE - Miguel Couto</td>\n      <td>Medicina</td>\n      <td>Bacharelado</td>\n      <td>Integral</td>\n      <td>9999.99</td>\n      <td>15.0</td>\n      <td>14.0</td>\n      <td>NaN</td>\n      <td>NaN</td>\n      <td>740.22</td>\n      <td>726.46</td>\n      <td>NaN</td>\n      <td>NaN</td>\n    </tr>\n    <tr>\n      <th>12916</th>\n      <td>CE</td>\n      <td>Crateus</td>\n      <td>Faculdade Princesa do Oeste - FPO</td>\n      <td>UNIDADE SEDE - São Vicente</td>\n      <td>Enfermagem</td>\n      <td>Bacharelado</td>\n      <td>Noturno</td>\n      <td>9836.40</td>\n      <td>1.0</td>\n      <td>NaN</td>\n      <td>NaN</td>\n      <td>NaN</td>\n      <td>663.36</td>\n      <td>NaN</td>\n      <td>NaN</td>\n      <td>NaN</td>\n    </tr>\n    <tr>\n      <th>32058</th>\n      <td>SP</td>\n      <td>Sao Paulo</td>\n      <td>Universidade Cidade de São Paulo - UNICID</td>\n      <td>UNIVERSIDADE CIDADE DE SÃO PAULO - UNICID - SE...</td>\n      <td>Medicina</td>\n      <td>Bacharelado</td>\n      <td>Integral</td>\n      <td>9715.61</td>\n      <td>2.0</td>\n      <td>5.0</td>\n      <td>6.0</td>\n      <td>10.0</td>\n      <td>739.62</td>\n      <td>738.08</td>\n      <td>738.96</td>\n      <td>718.64</td>\n    </tr>\n    <tr>\n      <th>37058</th>\n      <td>CE</td>\n      <td>Crateus</td>\n      <td>Faculdade Princesa do Oeste - FPO</td>\n      <td>UNIDADE SEDE - São Vicente</td>\n      <td>Psicologia</td>\n      <td>Bacharelado</td>\n      <td>Noturno</td>\n      <td>9689.34</td>\n      <td>3.0</td>\n      <td>2.0</td>\n      <td>NaN</td>\n      <td>NaN</td>\n      <td>651.00</td>\n      <td>652.22</td>\n      <td>NaN</td>\n      <td>NaN</td>\n    </tr>\n    <tr>\n      <th>31940</th>\n      <td>AC</td>\n      <td>Rio Branco</td>\n      <td>Faculdade Barão do Rio Branco - FAB</td>\n      <td>CAMPUS  - RIO BRANCO - JARDIM EUROPA II - Jard...</td>\n      <td>Medicina</td>\n      <td>Bacharelado</td>\n      <td>Integral</td>\n      <td>9674.34</td>\n      <td>4.0</td>\n      <td>1.0</td>\n      <td>5.0</td>\n      <td>2.0</td>\n      <td>758.32</td>\n      <td>723.94</td>\n      <td>734.92</td>\n      <td>711.26</td>\n    </tr>\n  </tbody>\n</table>\n</div>"
     },
     "metadata": {},
     "execution_count": 18
    }
   ],
   "source": [
    "# quais os 5 maiores mensalidades ?\n",
    "df.nlargest(5,'mensalidade')"
   ]
  },
  {
   "cell_type": "code",
   "execution_count": 19,
   "metadata": {},
   "outputs": [
    {
     "output_type": "execute_result",
     "data": {
      "text/plain": [
       "      uf_busca     cidade_busca  \\\n",
       "20454       PA         Santarem   \n",
       "22934       DF         Brasilia   \n",
       "39118       ES          Vitoria   \n",
       "30989       SP      Sao VIcente   \n",
       "20836       AC       Acrelandia   \n",
       "20838       AC  Cruzeiro do Sul   \n",
       "\n",
       "                                       universidade_nome  \\\n",
       "20454                       Universidade Paulista - UNIP   \n",
       "22934  Centro Universitário Planalto do Distrito Fede...   \n",
       "39118                       Universidade Paulista - UNIP   \n",
       "30989                     Faculdade de São VIcente - FSV   \n",
       "20836                       Universidade Paulista - UNIP   \n",
       "20838                       Universidade Paulista - UNIP   \n",
       "\n",
       "                                             campus_nome  \\\n",
       "20454                                  SANTARÉM - Fátima   \n",
       "22934  DF03 - UNIDADE BRASIL CENTRAL - Taguatinga Nor...   \n",
       "39118                         VITORIA I - Barro Vermelho   \n",
       "30989                              UNIDADE SEDE - Centro   \n",
       "20836                                ACRELANDIA - Centro   \n",
       "20838                           CRUZEIRO DO SUL - Centro   \n",
       "\n",
       "                             nome         grau              turno  \\\n",
       "20454            Gestão Ambiental  Tecnológico  Curso a Distância   \n",
       "22934  Gestão de Recursos Humanos  Tecnológico         Vespertino   \n",
       "39118              Serviço Social  Bacharelado  Curso a Distância   \n",
       "30989                   Marketing  Tecnológico  Curso a Distância   \n",
       "20836            Gestão Comercial  Tecnológico  Curso a Distância   \n",
       "20838            Gestão Comercial  Tecnológico  Curso a Distância   \n",
       "\n",
       "       mensalidade  bolsa_integral_cotas  bolsa_integral_ampla  \\\n",
       "20454        139.0                   3.0                   1.0   \n",
       "22934        139.0                   1.0                   NaN   \n",
       "39118        139.0                   1.0                   NaN   \n",
       "30989        144.0                   1.0                   2.0   \n",
       "20836        149.0                   1.0                   NaN   \n",
       "20838        149.0                   1.0                   NaN   \n",
       "\n",
       "       bolsa_parcial_cotas  bolsa_parcial_ampla  nota_integral_ampla  \\\n",
       "20454                  NaN                  NaN               605.32   \n",
       "22934                  NaN                  NaN               580.76   \n",
       "39118                  NaN                  NaN               548.26   \n",
       "30989                  2.0                  5.0               533.34   \n",
       "20836                  NaN                  NaN               545.64   \n",
       "20838                  NaN                  NaN               555.10   \n",
       "\n",
       "       nota_integral_cotas  nota_parcial_ampla  nota_parcial_cotas  \n",
       "20454                573.7                 NaN                 NaN  \n",
       "22934                  NaN                 NaN                 NaN  \n",
       "39118                  NaN                 NaN                 NaN  \n",
       "30989                450.0               450.0               450.0  \n",
       "20836                  NaN                 NaN                 NaN  \n",
       "20838                  NaN                 NaN                 NaN  "
      ],
      "text/html": "<div>\n<style scoped>\n    .dataframe tbody tr th:only-of-type {\n        vertical-align: middle;\n    }\n\n    .dataframe tbody tr th {\n        vertical-align: top;\n    }\n\n    .dataframe thead th {\n        text-align: right;\n    }\n</style>\n<table border=\"1\" class=\"dataframe\">\n  <thead>\n    <tr style=\"text-align: right;\">\n      <th></th>\n      <th>uf_busca</th>\n      <th>cidade_busca</th>\n      <th>universidade_nome</th>\n      <th>campus_nome</th>\n      <th>nome</th>\n      <th>grau</th>\n      <th>turno</th>\n      <th>mensalidade</th>\n      <th>bolsa_integral_cotas</th>\n      <th>bolsa_integral_ampla</th>\n      <th>bolsa_parcial_cotas</th>\n      <th>bolsa_parcial_ampla</th>\n      <th>nota_integral_ampla</th>\n      <th>nota_integral_cotas</th>\n      <th>nota_parcial_ampla</th>\n      <th>nota_parcial_cotas</th>\n    </tr>\n  </thead>\n  <tbody>\n    <tr>\n      <th>20454</th>\n      <td>PA</td>\n      <td>Santarem</td>\n      <td>Universidade Paulista - UNIP</td>\n      <td>SANTARÉM - Fátima</td>\n      <td>Gestão Ambiental</td>\n      <td>Tecnológico</td>\n      <td>Curso a Distância</td>\n      <td>139.0</td>\n      <td>3.0</td>\n      <td>1.0</td>\n      <td>NaN</td>\n      <td>NaN</td>\n      <td>605.32</td>\n      <td>573.7</td>\n      <td>NaN</td>\n      <td>NaN</td>\n    </tr>\n    <tr>\n      <th>22934</th>\n      <td>DF</td>\n      <td>Brasilia</td>\n      <td>Centro Universitário Planalto do Distrito Fede...</td>\n      <td>DF03 - UNIDADE BRASIL CENTRAL - Taguatinga Nor...</td>\n      <td>Gestão de Recursos Humanos</td>\n      <td>Tecnológico</td>\n      <td>Vespertino</td>\n      <td>139.0</td>\n      <td>1.0</td>\n      <td>NaN</td>\n      <td>NaN</td>\n      <td>NaN</td>\n      <td>580.76</td>\n      <td>NaN</td>\n      <td>NaN</td>\n      <td>NaN</td>\n    </tr>\n    <tr>\n      <th>39118</th>\n      <td>ES</td>\n      <td>Vitoria</td>\n      <td>Universidade Paulista - UNIP</td>\n      <td>VITORIA I - Barro Vermelho</td>\n      <td>Serviço Social</td>\n      <td>Bacharelado</td>\n      <td>Curso a Distância</td>\n      <td>139.0</td>\n      <td>1.0</td>\n      <td>NaN</td>\n      <td>NaN</td>\n      <td>NaN</td>\n      <td>548.26</td>\n      <td>NaN</td>\n      <td>NaN</td>\n      <td>NaN</td>\n    </tr>\n    <tr>\n      <th>30989</th>\n      <td>SP</td>\n      <td>Sao VIcente</td>\n      <td>Faculdade de São VIcente - FSV</td>\n      <td>UNIDADE SEDE - Centro</td>\n      <td>Marketing</td>\n      <td>Tecnológico</td>\n      <td>Curso a Distância</td>\n      <td>144.0</td>\n      <td>1.0</td>\n      <td>2.0</td>\n      <td>2.0</td>\n      <td>5.0</td>\n      <td>533.34</td>\n      <td>450.0</td>\n      <td>450.0</td>\n      <td>450.0</td>\n    </tr>\n    <tr>\n      <th>20836</th>\n      <td>AC</td>\n      <td>Acrelandia</td>\n      <td>Universidade Paulista - UNIP</td>\n      <td>ACRELANDIA - Centro</td>\n      <td>Gestão Comercial</td>\n      <td>Tecnológico</td>\n      <td>Curso a Distância</td>\n      <td>149.0</td>\n      <td>1.0</td>\n      <td>NaN</td>\n      <td>NaN</td>\n      <td>NaN</td>\n      <td>545.64</td>\n      <td>NaN</td>\n      <td>NaN</td>\n      <td>NaN</td>\n    </tr>\n    <tr>\n      <th>20838</th>\n      <td>AC</td>\n      <td>Cruzeiro do Sul</td>\n      <td>Universidade Paulista - UNIP</td>\n      <td>CRUZEIRO DO SUL - Centro</td>\n      <td>Gestão Comercial</td>\n      <td>Tecnológico</td>\n      <td>Curso a Distância</td>\n      <td>149.0</td>\n      <td>1.0</td>\n      <td>NaN</td>\n      <td>NaN</td>\n      <td>NaN</td>\n      <td>555.10</td>\n      <td>NaN</td>\n      <td>NaN</td>\n      <td>NaN</td>\n    </tr>\n  </tbody>\n</table>\n</div>"
     },
     "metadata": {},
     "execution_count": 19
    }
   ],
   "source": [
    "# quais as 5 menores mensalidades ?\n",
    "df.nsmallest(6,'mensalidade')"
   ]
  }
 ]
}